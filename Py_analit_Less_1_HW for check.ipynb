{
 "cells": [
  {
   "cell_type": "markdown",
   "id": "0f16d679",
   "metadata": {},
   "source": [
    "# Семинар 1. Домашнее задание"
   ]
  },
  {
   "cell_type": "markdown",
   "id": "e7e1b5cd",
   "metadata": {},
   "source": [
    "## Задание 1\n",
    "\n",
    "\n",
    "Оформляйте ноутбук, используя эти советы:\n",
    "- Номер задачи - \n",
    "## заголовок 2\n",
    "- Номер подзадачи - \n",
    "### заголовок 3\n",
    "- Предоставленные наборы данных оформляйте, как код\n",
    "```\n",
    "def dic_calculate_fruits(**names, **val_s):\n",
    "    d = {'1': 1, '2': 2, '3': 3, '4': 4}\n",
    "    d = d.update(d)\n",
    "\n",
    "```"
   ]
  },
  {
   "cell_type": "markdown",
   "id": "4118edb1",
   "metadata": {},
   "source": [
    "## Задание 2\n",
    "\n",
    "На складе лежат разные фрукты в разном количестве.\n",
    "\n",
    "Нужно написать функцию,\n",
    "\n",
    "которая на вход принимает любое количество названий фруктов и их количество,\n",
    "\n",
    "а возвращает общее количество фруктов на складе"
   ]
  },
  {
   "cell_type": "code",
   "execution_count": 1,
   "id": "984e6823",
   "metadata": {},
   "outputs": [
    {
     "name": "stdout",
     "output_type": "stream",
     "text": [
      "{'Orange': 1, 'Melon': 2, 'Grape Fruit': 3}\n",
      "Total fruits amount = 6\n"
     ]
    }
   ],
   "source": [
    "dic_1 = {'Orange': 1, 'Melon': 2, 'Grape Fruit': 3}\n",
    "dic_2 = {'Apple': 4, 'Banana': 5, 'Mango': 6}\n",
    "\n",
    "def countFruits(d1: dict) ->int:\n",
    "    sum_dic = {**d1}\n",
    "    print (sum_dic)\n",
    "    amo_unt = sum(sum_dic.values())\n",
    "\n",
    "    return amo_unt\n",
    "\n",
    "print(f'Total fruits amount =', countFruits(dic_1))"
   ]
  },
  {
   "cell_type": "markdown",
   "id": "4104aeb1",
   "metadata": {},
   "source": [
    "## Задание 3\n",
    "\n",
    "Дан список с затратами на рекламу. Но в данных есть ошибки, некоторые затраты имеют отрицательную величину. \n",
    "\n",
    "Удалите такие значения из списка и посчитайте суммарные затраты\n",
    "\n",
    "\n",
    "```\n",
    "[100, 125, -90, 345, 655, -1, 0, 200]\n",
    "```\n",
    "\n",
    "\n",
    "Используйте list comprehensions"
   ]
  },
  {
   "cell_type": "code",
   "execution_count": 2,
   "id": "67f83beb",
   "metadata": {},
   "outputs": [
    {
     "name": "stdout",
     "output_type": "stream",
     "text": [
      "Positive elements sum = 1425\n"
     ]
    }
   ],
   "source": [
    "init_list = [100, 125, -90, 345, 655, -1, 0, 200]\n",
    "\n",
    "print(f'Positive elements sum =', sum([init_list[i] for i in range(len(init_list)) if init_list[i] > 0]))\n"
   ]
  },
  {
   "cell_type": "code",
   "execution_count": 3,
   "id": "657f358d",
   "metadata": {},
   "outputs": [
    {
     "name": "stdout",
     "output_type": "stream",
     "text": [
      "new_lst = [100, 125, 345, 655, 200]\n",
      "Positive elements sum = 1425\n"
     ]
    }
   ],
   "source": [
    "init_list = [100, 125, -90, 345, 655, -1, 0, 200]\n",
    "\n",
    "new_lst = [init_list[i] for i in range(len(init_list)) if init_list[i] > 0]\n",
    "\n",
    "print('new_lst =', new_lst)\n",
    "print(f'Positive elements sum =', sum(new_lst))"
   ]
  },
  {
   "cell_type": "markdown",
   "id": "726536b1",
   "metadata": {},
   "source": [
    "## Задание 4\n",
    "Даны два списка:\n",
    "\n",
    "##### Дата покупки\n",
    "```\n",
    "['2021-09-14', '2021-12-15', '2021-09-08', '2021-12-05', '2021-10-09', \n",
    "'2021-09-30', '2021-12-22', '2021-11-29', '2021-12-24', '2021-11-26',\n",
    "'2021-10-27', '2021-12-18', '2021-11-09', '2021-11-23', '2021-09-27',\n",
    "'2021-10-02', '2021-12-27', '2021-09-20', '2021-12-13', '2021-11-01',\n",
    "'2021-11-09', '2021-12-06', '2021-12-08', '2021-10-09', '2021-10-31',\n",
    "'2021-09-30', '2021-11-09', '2021-12-13', '2021-10-26', '2021-12-09']\n",
    "```\n",
    "##### Суммы покупок по датам\n",
    "```\n",
    "[1270, 8413, 9028, 3703, 5739,\n",
    "4095, 295, 4944, 5723, 3701,\n",
    "4471, 651, 7037, 4274, 6275,\n",
    "4988, 6930, 2971, 6592, 2004,\n",
    "2822, 519, 3406, 2732, 5015,\n",
    "2008, 316, 6333, 5700, 2887]\n",
    "```\n",
    "\n",
    "\n",
    "\n"
   ]
  },
  {
   "cell_type": "markdown",
   "id": "c6ab6a60",
   "metadata": {},
   "source": [
    "### 4.1 Найдите, какая выручка у компании в ноябре\n",
    "Используйте list comprehensions"
   ]
  },
  {
   "cell_type": "code",
   "execution_count": 4,
   "id": "079c0910",
   "metadata": {},
   "outputs": [],
   "source": [
    "list_date = ['2021-09-14', '2021-12-15', '2021-09-08', '2021-12-05', '2021-10-09', \n",
    "             '2021-09-30', '2021-12-22', '2021-11-29', '2021-12-24', '2021-11-26', \n",
    "             '2021-10-27', '2021-12-18', '2021-11-09', '2021-11-23', '2021-09-27', \n",
    "             '2021-10-02', '2021-12-27', '2021-09-20', '2021-12-13', '2021-11-01', \n",
    "             '2021-11-09', '2021-12-06', '2021-12-08', '2021-10-09', '2021-10-31', \n",
    "             '2021-09-30', '2021-11-09', '2021-12-13', '2021-10-26', '2021-12-09']\n",
    "\n",
    "list_purch_sum = [1270, 8413, 9028, 3703, 5739, 4095, 295, 4944, 5723, 3701, 4471,\n",
    "                  651, 7037, 4274, 6275, 4988, 6930, 2971, 6592, 2004, 2822, 519,\n",
    "                  3406, 2732, 5015, 2008, 316, 6333, 5700, 2887]"
   ]
  },
  {
   "cell_type": "code",
   "execution_count": 5,
   "id": "98462ee3",
   "metadata": {},
   "outputs": [
    {
     "name": "stdout",
     "output_type": "stream",
     "text": [
      "Sales_tab item's amount = 25\n",
      "Sales_tab_nov {'2021-11-29': 4944, '2021-11-26': 3701, '2021-11-09': 316, '2021-11-23': 4274, '2021-11-01': 2004}\n",
      "Выручка в ноябре 2021 составила 15239 y.e\n"
     ]
    }
   ],
   "source": [
    "# Исключен из решения- алгоритм не учитывает множественные покупки в одну дату\n",
    "# \n",
    "sales_tab = dict(zip(list_date, list_purch_sum))\n",
    "print(\"Sales_tab item's amount =\", len(sales_tab))\n",
    "\n",
    "sales_tab_nov = {k:v for (k,v) in sales_tab.items() if k>'2021-10-31' if k<'2021-12-01'}\n",
    "\n",
    "print(f'Sales_tab_nov', sales_tab_nov)\n",
    "\n",
    "purch_nov = sum(sales_tab_nov.values())\n",
    "print(f'Выручка в ноябре 2021 составила', purch_nov, 'y.e')"
   ]
  },
  {
   "cell_type": "code",
   "execution_count": 6,
   "id": "ffc94388",
   "metadata": {},
   "outputs": [
    {
     "name": "stdout",
     "output_type": "stream",
     "text": [
      "Sum november's purchaces = 25098\n"
     ]
    }
   ],
   "source": [
    "def purch_nov(list1: list, list2: list) -> dict:\n",
    "    return sum([list2[i] for i in range(len(list2)) if '-11-' in list1[i]])\n",
    "\n",
    "print(f\"Sum november's purchaces =\", purch_nov(list_date, list_purch_sum))"
   ]
  },
  {
   "cell_type": "code",
   "execution_count": 7,
   "id": "228582dc",
   "metadata": {},
   "outputs": [
    {
     "name": "stdout",
     "output_type": "stream",
     "text": [
      "Sum november's purchaces = 25098\n"
     ]
    }
   ],
   "source": [
    "res = sum([list_purch_sum[i] for i in range(len(list_purch_sum)) if '-11-' in list_date[i]])\n",
    "\n",
    "print(f\"Sum november's purchaces =\", res)"
   ]
  },
  {
   "cell_type": "markdown",
   "id": "f2e0d532",
   "metadata": {},
   "source": [
    "### 4.2 Найдите выручку компании в зависимости от месяца\n",
    "Для этого напишите функцию, которая на вход принимает список с датами и список с выручкой, а на выходе словарь, где ключи - это месяцы, а значения - это выручка.\n",
    "Используйте аннотирование типов."
   ]
  },
  {
   "cell_type": "code",
   "execution_count": 8,
   "id": "76b038fc",
   "metadata": {},
   "outputs": [
    {
     "name": "stdout",
     "output_type": "stream",
     "text": [
      "Revenue's sum by monthes: {'09': 25647, '10': 28645, '11': 25098, '12': 45452}\n"
     ]
    }
   ],
   "source": [
    "def revenue_by_monthes(data1: list, data2: list) -> dict: \n",
    "     \n",
    "    monthes_revenue = {} \n",
    "     \n",
    "    for i in range(len(data1)): \n",
    "         \n",
    "        if list_date[i].split('-')[1] in monthes_revenue.keys(): \n",
    "            monthes_revenue[list_date[i].split('-')[1]] += list_purch_sum[i] \n",
    "        else: \n",
    "            monthes_revenue[list_date[i].split('-')[1]] = list_purch_sum[i]\n",
    "            \n",
    "    monthes_revenue = dict(sorted(monthes_revenue.items()))\n",
    "    \n",
    "    return monthes_revenue\n",
    " \n",
    "print(\"Revenue's sum by monthes:\", revenue_by_monthes(list_date, list_purch_sum))"
   ]
  }
 ],
 "metadata": {
  "kernelspec": {
   "display_name": "Python 3 (ipykernel)",
   "language": "python",
   "name": "python3"
  },
  "language_info": {
   "codemirror_mode": {
    "name": "ipython",
    "version": 3
   },
   "file_extension": ".py",
   "mimetype": "text/x-python",
   "name": "python",
   "nbconvert_exporter": "python",
   "pygments_lexer": "ipython3",
   "version": "3.10.9"
  }
 },
 "nbformat": 4,
 "nbformat_minor": 5
}
